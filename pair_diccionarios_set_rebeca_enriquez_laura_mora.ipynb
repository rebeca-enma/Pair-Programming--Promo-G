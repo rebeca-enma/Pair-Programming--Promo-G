{
 "cells": [
  {
   "cell_type": "code",
   "execution_count": 1,
   "metadata": {},
   "outputs": [
    {
     "name": "stdout",
     "output_type": "stream",
     "text": [
      "{}\n"
     ]
    }
   ],
   "source": [
    "#1 Crear un diccionario vacío\n",
    "diccionario_vacio= {}\n",
    "print(diccionario_vacio)"
   ]
  },
  {
   "cell_type": "code",
   "execution_count": null,
   "metadata": {},
   "outputs": [
    {
     "name": "stdout",
     "output_type": "stream",
     "text": [
      "{}\n"
     ]
    }
   ],
   "source": []
  },
  {
   "cell_type": "code",
   "execution_count": null,
   "metadata": {},
   "outputs": [
    {
     "name": "stdout",
     "output_type": "stream",
     "text": [
      "{'rojo': 'red', 'amarillo': 'yellow', 'azul': 'blue', 'negro': 'black', 'blanco': 'white'}\n"
     ]
    }
   ],
   "source": []
  },
  {
   "cell_type": "code",
   "execution_count": null,
   "metadata": {},
   "outputs": [
    {
     "name": "stdout",
     "output_type": "stream",
     "text": [
      "Como se dice azul en ingles blue\n"
     ]
    }
   ],
   "source": []
  },
  {
   "cell_type": "code",
   "execution_count": null,
   "metadata": {},
   "outputs": [
    {
     "name": "stdout",
     "output_type": "stream",
     "text": [
      "Actualizamos diccionario {'rojo': 'red', 'amarillo': 'yellow', 'azul': 'blue', 'negro': 'black', 'blanco': 'white', 'morado': 'purple'}\n"
     ]
    }
   ],
   "source": []
  },
  {
   "cell_type": "code",
   "execution_count": null,
   "metadata": {},
   "outputs": [
    {
     "name": "stdout",
     "output_type": "stream",
     "text": [
      "{'rojo': 'red', 'amarillo': 'yellow', 'azul': 'blue', 'negro': 'grey', 'blanco': 'white', 'morado': 'purple'}\n"
     ]
    }
   ],
   "source": []
  },
  {
   "cell_type": "code",
   "execution_count": null,
   "metadata": {},
   "outputs": [
    {
     "name": "stdout",
     "output_type": "stream",
     "text": [
      "Tenemos el siguiente diccionario {'rojo': 'red', 'amarillo': 'yellow', 'azul': 'blue', 'negro': 'grey', 'blanco': 'white', 'morado': 'purple'}\n",
      "El diccionario quedaria asi: {'rojo': 'red', 'amarillo': 'yellow', 'azul': 'blue', 'blanco': 'white', 'morado': 'purple'}\n"
     ]
    }
   ],
   "source": []
  },
  {
   "cell_type": "code",
   "execution_count": null,
   "metadata": {},
   "outputs": [
    {
     "name": "stdout",
     "output_type": "stream",
     "text": [
      "Esta el color amarillo en el diccionario: True\n"
     ]
    }
   ],
   "source": []
  },
  {
   "cell_type": "code",
   "execution_count": null,
   "metadata": {},
   "outputs": [
    {
     "name": "stdout",
     "output_type": "stream",
     "text": [
      "Tenemos el diccionario {'rojo': 'red', 'amarillo': 'yellow', 'azul': 'blue', 'negro': 'grey', 'blanco': 'white', 'morado': 'purple'} y sus claves son: ['rojo', 'amarillo', 'azul', 'negro', 'blanco', 'morado']\n"
     ]
    }
   ],
   "source": []
  },
  {
   "cell_type": "code",
   "execution_count": null,
   "metadata": {},
   "outputs": [
    {
     "name": "stdout",
     "output_type": "stream",
     "text": [
      "Tenemos el diccionario {'rojo': 'red', 'amarillo': 'yellow', 'azul': 'blue', 'negro': 'grey', 'blanco': 'white', 'morado': 'purple'} y sus valores son: ['red', 'yellow', 'blue', 'grey', 'white', 'purple']\n"
     ]
    }
   ],
   "source": []
  },
  {
   "cell_type": "code",
   "execution_count": null,
   "metadata": {},
   "outputs": [
    {
     "name": "stdout",
     "output_type": "stream",
     "text": [
      "{'rojo': 'red', 'amarillo': 'yellow', 'azul': 'blue', 'negro': 'grey', 'blanco': 'white', 'morado': 'purple', 'rosa': 'No esta en la lista de colores traducidos'}\n"
     ]
    }
   ],
   "source": []
  },
  {
   "cell_type": "code",
   "execution_count": null,
   "metadata": {},
   "outputs": [
    {
     "name": "stdout",
     "output_type": "stream",
     "text": [
      "EL diccionario es: {'rojo': 'red', 'amarillo': 'yellow', 'azul': 'blue', 'negro': 'grey', 'blanco': 'white', 'morado': 'purple', 'rosa': 'No esta en la lista de colores traducidos'}\n",
      "Utiliznado popitem() eliminamos ('rosa', 'No esta en la lista de colores traducidos')\n",
      "y el diccionario queda: {'rojo': 'red', 'amarillo': 'yellow', 'azul': 'blue', 'negro': 'grey', 'blanco': 'white', 'morado': 'purple'}\n"
     ]
    }
   ],
   "source": []
  },
  {
   "cell_type": "code",
   "execution_count": null,
   "metadata": {},
   "outputs": [
    {
     "name": "stdout",
     "output_type": "stream",
     "text": [
      "Utiliznado pop() eliminamos blanco white\n",
      "El diccionario quedaria: {'rojo': 'red', 'amarillo': 'yellow', 'azul': 'blue', 'negro': 'grey', 'morado': 'purple'}\n"
     ]
    }
   ],
   "source": []
  },
  {
   "cell_type": "markdown",
   "metadata": {},
   "source": []
  },
  {
   "cell_type": "code",
   "execution_count": null,
   "metadata": {},
   "outputs": [
    {
     "name": "stdout",
     "output_type": "stream",
     "text": [
      "set()\n"
     ]
    },
    {
     "data": {
      "text/plain": [
       "set"
      ]
     },
     "metadata": {},
     "output_type": "display_data"
    }
   ],
   "source": []
  },
  {
   "cell_type": "code",
   "execution_count": null,
   "metadata": {},
   "outputs": [],
   "source": []
  },
  {
   "cell_type": "code",
   "execution_count": null,
   "metadata": {},
   "outputs": [
    {
     "name": "stdout",
     "output_type": "stream",
     "text": [
      "{'d', 'b', 'e', 'a', 'c'}\n"
     ]
    }
   ],
   "source": []
  },
  {
   "cell_type": "code",
   "execution_count": null,
   "metadata": {},
   "outputs": [
    {
     "name": "stdout",
     "output_type": "stream",
     "text": [
      "{'d', 'b', 'x', 'e', 'z', 'y', 'a', 'c'}\n"
     ]
    }
   ],
   "source": []
  },
  {
   "cell_type": "code",
   "execution_count": null,
   "metadata": {},
   "outputs": [
    {
     "name": "stdout",
     "output_type": "stream",
     "text": [
      "{'d', 'b', 'e', 'z', 'y', 'a', 'c'}\n"
     ]
    }
   ],
   "source": []
  },
  {
   "cell_type": "code",
   "execution_count": null,
   "metadata": {},
   "outputs": [
    {
     "name": "stdout",
     "output_type": "stream",
     "text": [
      "Esta b en el set: True\n"
     ]
    }
   ],
   "source": []
  },
  {
   "cell_type": "code",
   "execution_count": null,
   "metadata": {},
   "outputs": [
    {
     "name": "stdout",
     "output_type": "stream",
     "text": [
      "el Set1 es: {'d', 'b', 'e', 'z', 'y', 'a', 'c'} el set2 es; {'h', 'g', 'e', 'f'} el conjunto es {'h', 'd', 'f', 'b', 'e', 'z', 'y', 'g', 'a', 'c'}\n"
     ]
    }
   ],
   "source": []
  },
  {
   "cell_type": "code",
   "execution_count": null,
   "metadata": {},
   "outputs": [
    {
     "name": "stdout",
     "output_type": "stream",
     "text": [
      "los elementos en comun son: {'e'}\n"
     ]
    }
   ],
   "source": []
  },
  {
   "cell_type": "code",
   "execution_count": null,
   "metadata": {},
   "outputs": [
    {
     "name": "stdout",
     "output_type": "stream",
     "text": [
      "La diferencia entre ambos set son: {'d', 'b', 'z', 'y', 'a', 'c'}\n",
      "Los elementos diferentes de ambos son: {'h', 'd', 'f', 'b', 'z', 'a', 'y', 'g', 'c'}\n"
     ]
    }
   ],
   "source": []
  },
  {
   "cell_type": "code",
   "execution_count": null,
   "metadata": {},
   "outputs": [
    {
     "name": "stdout",
     "output_type": "stream",
     "text": [
      "pertenece el set3 a el set1: True\n"
     ]
    }
   ],
   "source": []
  },
  {
   "cell_type": "code",
   "execution_count": 2,
   "metadata": {},
   "outputs": [
    {
     "name": "stdout",
     "output_type": "stream",
     "text": [
      "{'rojo': 'red', 'amarillo': 'yellow', 'azul': 'blue', 'negro': 'black', 'blanco': 'white'}\n"
     ]
    }
   ],
   "source": [
    "#2 Crear un diccionario con elementos\n",
    "ingles= {\"rojo\":\"red\",\"amarillo\":\"yellow\",\"azul\":\"blue\",\"negro\":\"black\",\"blanco\":\"white\"}\n",
    "print(ingles)"
   ]
  },
  {
   "cell_type": "code",
   "execution_count": 3,
   "metadata": {},
   "outputs": [
    {
     "name": "stdout",
     "output_type": "stream",
     "text": [
      "Como se dice azul en ingles blue\n"
     ]
    }
   ],
   "source": [
    "#3 Acceder al valor de una clave en un diccionario\n",
    "pregunta= input(\"Que color quieres del diccionario?\") \n",
    "print(\"Como se dice\", pregunta, \"en ingles\", ingles[pregunta])"
   ]
  },
  {
   "cell_type": "code",
   "execution_count": 4,
   "metadata": {},
   "outputs": [
    {
     "name": "stdout",
     "output_type": "stream",
     "text": [
      "Actualizamos diccionario {'rojo': 'red', 'amarillo': 'yellow', 'azul': 'blue', 'negro': 'black', 'blanco': 'white', 'morado': 'purple'}\n"
     ]
    }
   ],
   "source": [
    "#4 Agregar un nuevo par clave-valor a un diccionario\n",
    "valor_morado = {\"morado\":\"purple\"}\n",
    "ingles.update(valor_morado)\n",
    "\n",
    "print(\"Actualizamos diccionario\", ingles)"
   ]
  },
  {
   "cell_type": "code",
   "execution_count": 5,
   "metadata": {},
   "outputs": [
    {
     "name": "stdout",
     "output_type": "stream",
     "text": [
      "{'rojo': 'red', 'amarillo': 'yellow', 'azul': 'blue', 'negro': 'grey', 'blanco': 'white', 'morado': 'purple'}\n"
     ]
    }
   ],
   "source": [
    "#5 Actualizar el valor de una clave en un diccionario\n",
    "ingles[\"negro\"]=\"grey\"\n",
    "print(ingles)"
   ]
  },
  {
   "cell_type": "code",
   "execution_count": null,
   "metadata": {},
   "outputs": [
    {
     "name": "stdout",
     "output_type": "stream",
     "text": [
      "Tenemos el siguiente diccionario {'rojo': 'red', 'amarillo': 'yellow', 'azul': 'blue', 'negro': 'grey', 'blanco': 'white', 'morado': 'purple'}\n",
      "El diccionario quedaria asi: {'rojo': 'red', 'amarillo': 'yellow', 'azul': 'blue', 'blanco': 'white', 'morado': 'purple'}\n"
     ]
    }
   ],
   "source": [
    "#6 Eliminar un par clave-valor de un diccionario\n",
    "print(\"Tenemos el siguiente diccionario\", ingles)\n",
    "borrado=input(\"Que color eliminamos?\")\n",
    "ingles.pop(borrado)\n",
    "print(\"El diccionario quedaria asi:\", ingles)"
   ]
  },
  {
   "cell_type": "code",
   "execution_count": 6,
   "metadata": {},
   "outputs": [
    {
     "name": "stdout",
     "output_type": "stream",
     "text": [
      "Esta el color amarillo en el diccionario: True\n"
     ]
    }
   ],
   "source": [
    "#7 Verificar si una clave está presente en un diccionario\n",
    "pregunta2 = input(\"Que color quieres verificar?\")\n",
    "print(\"Esta el color\", pregunta2, \"en el diccionario:\", pregunta2 in ingles)"
   ]
  },
  {
   "cell_type": "code",
   "execution_count": 7,
   "metadata": {},
   "outputs": [
    {
     "name": "stdout",
     "output_type": "stream",
     "text": [
      "Tenemos el diccionario {'rojo': 'red', 'amarillo': 'yellow', 'azul': 'blue', 'negro': 'grey', 'blanco': 'white', 'morado': 'purple'} y sus claves son: ['rojo', 'amarillo', 'azul', 'negro', 'blanco', 'morado']\n"
     ]
    }
   ],
   "source": [
    "#8 Obtener una lista de todas las claves de un diccionario\n",
    "lista1= list(ingles.keys())\n",
    "print(\"Tenemos el diccionario\", ingles, \"y sus claves son:\", lista1)"
   ]
  },
  {
   "cell_type": "code",
   "execution_count": 8,
   "metadata": {},
   "outputs": [
    {
     "name": "stdout",
     "output_type": "stream",
     "text": [
      "Tenemos el diccionario {'rojo': 'red', 'amarillo': 'yellow', 'azul': 'blue', 'negro': 'grey', 'blanco': 'white', 'morado': 'purple'} y sus valores son: ['red', 'yellow', 'blue', 'grey', 'white', 'purple']\n"
     ]
    }
   ],
   "source": [
    "#9 Obtener una lista de todos los valores de un diccionario\n",
    "lista2= list(ingles.values())\n",
    "print(\"Tenemos el diccionario\", ingles, \"y sus valores son:\", lista2)"
   ]
  },
  {
   "cell_type": "code",
   "execution_count": 9,
   "metadata": {},
   "outputs": [
    {
     "name": "stdout",
     "output_type": "stream",
     "text": [
      "{'rojo': 'red', 'amarillo': 'yellow', 'azul': 'blue', 'negro': 'grey', 'blanco': 'white', 'morado': 'purple', 'rosa': 'No esta en la lista de colores traducidos'}\n"
     ]
    }
   ],
   "source": [
    "#10 Utilizar el método setdefault() para establecer un valor predeterminado si la clave no existe\n",
    "\n",
    "ingles.setdefault(\"rosa\",\"No esta en la lista de colores traducidos\")\n",
    "print(ingles)"
   ]
  },
  {
   "cell_type": "code",
   "execution_count": 11,
   "metadata": {},
   "outputs": [
    {
     "name": "stdout",
     "output_type": "stream",
     "text": [
      "EL diccionario es: {'rojo': 'red', 'amarillo': 'yellow', 'azul': 'blue', 'negro': 'grey', 'blanco': 'white', 'morado': 'purple', 'rosa': 'No esta en la lista de colores traducidos'}\n",
      "Utiliznado popitem() eliminamos ('rosa', 'No esta en la lista de colores traducidos')\n",
      "y el diccionario queda: {'rojo': 'red', 'amarillo': 'yellow', 'azul': 'blue', 'negro': 'grey', 'blanco': 'white', 'morado': 'purple'}\n"
     ]
    }
   ],
   "source": [
    "#11 Manipulación de un diccionario utilizando pop() y popitem()\n",
    "print(\"EL diccionario es:\", ingles)\n",
    "print(\"Utiliznado popitem() eliminamos\", ingles.popitem())\n",
    "print(\"El diccionario queda:\", ingles)\n",
    "\n"
   ]
  },
  {
   "cell_type": "code",
   "execution_count": 12,
   "metadata": {},
   "outputs": [
    {
     "name": "stdout",
     "output_type": "stream",
     "text": [
      "Utiliznado pop() eliminamos blanco white\n",
      "El diccionario quedaria: {'rojo': 'red', 'amarillo': 'yellow', 'azul': 'blue', 'negro': 'grey', 'morado': 'purple'}\n"
     ]
    }
   ],
   "source": [
    "#Utilizando el metodo POP\n",
    "print(\"Utiliznado pop() eliminamos blanco\", ingles.pop(\"blanco\"))\n",
    "print(\"El diccionario quedaria:\", ingles)"
   ]
  },
  {
   "cell_type": "markdown",
   "metadata": {},
   "source": [
    "# Ejercicios SETS\n"
   ]
  },
  {
   "cell_type": "code",
   "execution_count": 1,
   "metadata": {},
   "outputs": [
    {
     "name": "stdout",
     "output_type": "stream",
     "text": [
      "set()\n"
     ]
    },
    {
     "data": {
      "text/plain": [
       "set"
      ]
     },
     "execution_count": 1,
     "metadata": {},
     "output_type": "execute_result"
    }
   ],
   "source": [
    "#1 Crear un conjunto vacío\n",
    "diccionario1={}\n",
    "set_vacio = set(diccionario1)\n",
    "print(set_vacio)\n",
    "type(set_vacio)"
   ]
  },
  {
   "cell_type": "code",
   "execution_count": 2,
   "metadata": {},
   "outputs": [],
   "source": [
    "#2 Crear un conjunto con elementos\n",
    "set1= {\"a\",\"b\",\"c\",\"d\"}"
   ]
  },
  {
   "cell_type": "code",
   "execution_count": 3,
   "metadata": {},
   "outputs": [
    {
     "name": "stdout",
     "output_type": "stream",
     "text": [
      "{'d', 'b', 'e', 'a', 'c'}\n"
     ]
    }
   ],
   "source": [
    "#3 Agregar elementos a un conjunto\n",
    "\n",
    "set1.add(\"e\")\n",
    "print(set1)\n",
    "\n"
   ]
  },
  {
   "cell_type": "code",
   "execution_count": 4,
   "metadata": {},
   "outputs": [
    {
     "name": "stdout",
     "output_type": "stream",
     "text": [
      "{'d', 'b', 'x', 'e', 'z', 'y', 'a', 'c'}\n"
     ]
    }
   ],
   "source": [
    "\n",
    "actualizacion = [\"x\",\"y\",\"z\"]\n",
    "set1.update(actualizacion)\n",
    "print(set1)"
   ]
  },
  {
   "cell_type": "code",
   "execution_count": 5,
   "metadata": {},
   "outputs": [
    {
     "name": "stdout",
     "output_type": "stream",
     "text": [
      "{'d', 'b', 'e', 'z', 'y', 'a', 'c'}\n"
     ]
    }
   ],
   "source": [
    "#4 Eliminar un elemento de un conjunto\n",
    "set1.remove(\"x\")\n",
    "print(set1)"
   ]
  },
  {
   "cell_type": "code",
   "execution_count": 6,
   "metadata": {},
   "outputs": [
    {
     "name": "stdout",
     "output_type": "stream",
     "text": [
      "Esta b en el set: True\n"
     ]
    }
   ],
   "source": [
    "#5.Verificar la pertenencia de un elemento en un conjunto\n",
    "\n",
    "print(\"Esta b en el set:\", \"b\" in set1)"
   ]
  },
  {
   "cell_type": "code",
   "execution_count": 7,
   "metadata": {},
   "outputs": [
    {
     "name": "stdout",
     "output_type": "stream",
     "text": [
      "el Set1 es: {'d', 'b', 'e', 'z', 'y', 'a', 'c'} el set2 es; {'h', 'g', 'e', 'f'} el conjunto es {'h', 'd', 'f', 'b', 'e', 'z', 'y', 'g', 'a', 'c'}\n"
     ]
    }
   ],
   "source": [
    "#6 Realizar una unión de conjuntos\n",
    "\n",
    "set2 = {\"e\",\"f\",\"g\",\"h\"}\n",
    "conjunto_set= set1.union(set2)\n",
    "print(\"el Set1 es:\",set1, \"el set2 es;\", set2, \"el conjunto es\", conjunto_set)"
   ]
  },
  {
   "cell_type": "code",
   "execution_count": 8,
   "metadata": {},
   "outputs": [
    {
     "name": "stdout",
     "output_type": "stream",
     "text": [
      "los elementos en comun son: {'e'}\n"
     ]
    }
   ],
   "source": [
    "#7 Realizar una intersección de conjuntos\n",
    "set_interseccion= set1.intersection(set2)\n",
    "\n",
    "print(\"los elementos en comun son:\", set_interseccion)"
   ]
  },
  {
   "cell_type": "code",
   "execution_count": 10,
   "metadata": {},
   "outputs": [
    {
     "name": "stdout",
     "output_type": "stream",
     "text": [
      "La diferencia entre ambos set son: {'d', 'b', 'z', 'y', 'a', 'c'}\n",
      "Los elementos diferentes de ambos son: {'h', 'd', 'f', 'b', 'z', 'a', 'y', 'g', 'c'}\n"
     ]
    }
   ],
   "source": [
    "#8 Realizar una diferencia de conjuntos\n",
    "set_diferencia= set1.difference(set2)\n",
    "\n",
    "print(\"La diferencia entre ambos set son:\", set_diferencia)\n",
    "\n",
    "set_dif_simetrica = set1.symmetric_difference(set2)\n",
    "\n",
    "print(\"Los elementos diferentes de ambos son:\", set_dif_simetrica)"
   ]
  },
  {
   "cell_type": "code",
   "execution_count": 12,
   "metadata": {},
   "outputs": [
    {
     "name": "stdout",
     "output_type": "stream",
     "text": [
      "pertenece el set3 a el set1: True\n"
     ]
    }
   ],
   "source": [
    "#9 Verificar si un conjunto es subconjunto de otro\n",
    "\n",
    "set3 = {\"b\",\"c\"}\n",
    "subconjunto1= set3.issubset(set1)\n",
    "print(\"pertenece el set3 a el set1:\", subconjunto1)"
   ]
  }
 ],
 "metadata": {
  "kernelspec": {
   "display_name": "adalabenv",
   "language": "python",
   "name": "python3"
  },
  "language_info": {
   "codemirror_mode": {
    "name": "ipython",
    "version": 3
   },
   "file_extension": ".py",
   "mimetype": "text/x-python",
   "name": "python",
   "nbconvert_exporter": "python",
   "pygments_lexer": "ipython3",
   "version": "3.9.7"
  }
 },
 "nbformat": 4,
 "nbformat_minor": 2
}
