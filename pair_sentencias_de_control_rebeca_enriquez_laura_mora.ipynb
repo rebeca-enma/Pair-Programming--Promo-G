{
 "cells": [
  {
   "cell_type": "markdown",
   "metadata": {},
   "source": [
    "# Ejercicios if-else"
   ]
  },
  {
   "cell_type": "markdown",
   "metadata": {},
   "source": [
    "1. Verificar si un número es positivo, negativo o cero\n",
    "    - Descripción: Dado un número, verifica si es positivo, negativo o cero."
   ]
  },
  {
   "cell_type": "code",
   "execution_count": 2,
   "metadata": {},
   "outputs": [
    {
     "name": "stdout",
     "output_type": "stream",
     "text": [
      "-0.5 el número es negativo\n"
     ]
    }
   ],
   "source": [
    "numero1 = float(input('Introduce un número'))\n",
    "\n",
    "if numero1 == 0:\n",
    "    print(numero1, 'es 0')\n",
    "elif numero1 > 0:\n",
    "    print(numero1, 'el número es positivo')\n",
    "else:\n",
    "    print(numero1, 'el número es negativo')"
   ]
  },
  {
   "cell_type": "markdown",
   "metadata": {},
   "source": [
    "2. Verificar si un número es par o impar. \n",
    "    - Descripción: Dado un número, verifica si es par o impar."
   ]
  },
  {
   "cell_type": "code",
   "execution_count": 4,
   "metadata": {},
   "outputs": [
    {
     "name": "stdout",
     "output_type": "stream",
     "text": [
      "8.0 es número par\n"
     ]
    }
   ],
   "source": [
    "numero2 = float(input('Introduce un número'))\n",
    "\n",
    "if numero2 % 2 == 0:\n",
    "    print(numero2, 'es número par')\n",
    "else:\n",
    "    print(numero2, 'es número impar')"
   ]
  },
  {
   "cell_type": "markdown",
   "metadata": {},
   "source": [
    "3. Verificar si un estudiante aprobó o suspendió un examen. \n",
    "\n",
    "    - Descripción: Dada la calificación de un estudiante en un examen, verifica si aprobó o suspendió (si la calificación es mayor o igual a 60 se considera aprobado).\n"
   ]
  },
  {
   "cell_type": "code",
   "execution_count": 6,
   "metadata": {},
   "outputs": [
    {
     "name": "stdout",
     "output_type": "stream",
     "text": [
      "Sigue estudiando 🥲\n"
     ]
    }
   ],
   "source": [
    "nota1 = float(input('Introduce tu nota'))\n",
    "\n",
    "if nota1 >= 60:\n",
    "    print('Estas aprobado!! 😉')\n",
    "else:\n",
    "    print('Sigue estudiando 🥲')"
   ]
  },
  {
   "cell_type": "markdown",
   "metadata": {},
   "source": [
    "4. Calcular el máximo entre dos números\n",
    "    - Descripción: Dados dos números, encuentra el máximo entre ellos."
   ]
  },
  {
   "cell_type": "code",
   "execution_count": 8,
   "metadata": {},
   "outputs": [
    {
     "name": "stdout",
     "output_type": "stream",
     "text": [
      "Los dos números son iguales\n"
     ]
    }
   ],
   "source": [
    "primernumero = float(input('Introduce un número'))\n",
    "segundonumero = float(input('Introduce otro número'))\n",
    "\n",
    "if primernumero > segundonumero:\n",
    "    print(primernumero, 'es mayor que', segundonumero)\n",
    "elif segundonumero > primernumero:\n",
    "    print(segundonumero, 'es mayor que', primernumero)\n",
    "else:\n",
    "    print('Los dos números son iguales')"
   ]
  },
  {
   "cell_type": "markdown",
   "metadata": {},
   "source": [
    "5. Verificar si una letra es una vocal o una consonante\n",
    "    - Descripción: Dada una letra, verifica si es una vocal o una consonante."
   ]
  },
  {
   "cell_type": "code",
   "execution_count": 10,
   "metadata": {},
   "outputs": [
    {
     "name": "stdout",
     "output_type": "stream",
     "text": [
      "Tu letra es una consonante\n"
     ]
    }
   ],
   "source": [
    "vocales = ['a', 'e', 'i', 'o', 'u']\n",
    "pregunta1 = input('¿Cuál es tu letra?')\n",
    "\n",
    "if pregunta1.lower() in vocales:\n",
    "    print('Tu letra es una vocal')\n",
    "else:\n",
    "        print('Tu letra es una consonante')"
   ]
  },
  {
   "cell_type": "markdown",
   "metadata": {},
   "source": [
    "6. Calcular el descuento en una compra según el monto total\n",
    "    - Descripción: Dado el monto total de una compra, calcula el descuento aplicado según las siguientes condiciones: si el monto es mayor o igual a $100, aplica un descuento del 10%; de lo contrario, no aplica ningún descuento."
   ]
  },
  {
   "cell_type": "code",
   "execution_count": 12,
   "metadata": {},
   "outputs": [
    {
     "name": "stdout",
     "output_type": "stream",
     "text": [
      "No has llegado al mínimo para aplicar descuento\n"
     ]
    }
   ],
   "source": [
    "compra = float(input('¿Cuál es el valor de tu compra?'))\n",
    "\n",
    "if compra >= 100:\n",
    "    descuento = compra *0.10\n",
    "    print('El descuento es', descuento, 'El valor de la compra se queda en', compra-descuento)\n",
    "else:\n",
    "    print('No has llegado al mínimo para aplicar descuento')"
   ]
  },
  {
   "cell_type": "markdown",
   "metadata": {},
   "source": [
    "7. Verificar si un año es bisiesto o no\n",
    "    - Descripción: Dado un año, verifica si es bisiesto o no (un año es bisiesto si es divisible entre 4, excepto aquellos divisibles entre 100 pero no entre 400)."
   ]
  },
  {
   "cell_type": "code",
   "execution_count": 14,
   "metadata": {},
   "outputs": [
    {
     "name": "stdout",
     "output_type": "stream",
     "text": [
      "No es un año bisiesto\n"
     ]
    }
   ],
   "source": [
    "año = int(input('Introduce el año'))\n",
    "\n",
    "if año % 4 == 0:\n",
    "    if año % 100 == 0:\n",
    "        print('No es año bisiesto')\n",
    "    else:\n",
    "        print('El año es bisiesto')\n",
    "    \n",
    "else:\n",
    "    print('No es un año bisiesto')"
   ]
  },
  {
   "cell_type": "markdown",
   "metadata": {},
   "source": [
    "8. Asignar una categoría a una edad\n",
    "    - Descripción: Dada una edad, asigna una categoría según las siguientes condiciones: si la edad es menor de 18, la categoría es \"Menor de edad\"; si la edad está entre 18 y 64 (incluyendo ambos), la categoría es \"Adulto\"; de lo contrario, la categoría es \"Adulto mayor\"."
   ]
  },
  {
   "cell_type": "code",
   "execution_count": 17,
   "metadata": {},
   "outputs": [
    {
     "name": "stdout",
     "output_type": "stream",
     "text": [
      "Eres adulto mayor\n"
     ]
    }
   ],
   "source": [
    "edad1 = int(input('Introduce tu edad'))\n",
    "\n",
    "if edad1 < 18:\n",
    "    print('Eres menor de edad')\n",
    "elif edad1 >= 18 and edad1 <= 64:\n",
    "    print('Eres adulto')\n",
    "else:\n",
    "    print('Eres adulto mayor')"
   ]
  },
  {
   "cell_type": "markdown",
   "metadata": {},
   "source": [
    "9. Verificar si tres números forman un triángulo rectángulo\n",
    "    - Descripción: Dados tres números, verifica si forman un triángulo rectángulo (si se cumple el teorema de Pitágoras)."
   ]
  },
  {
   "cell_type": "code",
   "execution_count": 18,
   "metadata": {},
   "outputs": [
    {
     "name": "stdout",
     "output_type": "stream",
     "text": [
      "Sí se cumple el teorema de Pitágoras! Es un triángulo rectángulo!\n"
     ]
    }
   ],
   "source": [
    "cateto1 = float(input('Introduce uno de los catetos'))\n",
    "cateto2 = float(input('Introduce el otro cateto'))\n",
    "hipotenusa = float(input('Introduce la hipotenusa'))\n",
    "\n",
    "if hipotenusa**2 == cateto1**2 + cateto2**2:\n",
    "    print('Sí se cumple el teorema de Pitágoras! Es un triángulo rectángulo!')\n",
    "else:\n",
    "    print('El teorema no se cumple. No es un triángulo rectángulo')"
   ]
  },
  {
   "cell_type": "markdown",
   "metadata": {},
   "source": [
    "10. Asignar una calificación a una puntuación\n",
    "    - Descripción: Dada una puntuación, asigna una calificación según las siguientes condiciones: si la puntuación es mayor o igual a 90, la calificación es \"A\"; si es mayor o igual a 80, la calificación es \"B\"; si es mayor o igual a 70, la calificación es \"C\"; si es mayor o igual a 60, la calificación es \"D\"; de lo contrario, la calificación es \"F\"."
   ]
  },
  {
   "cell_type": "code",
   "execution_count": 25,
   "metadata": {},
   "outputs": [
    {
     "name": "stdout",
     "output_type": "stream",
     "text": [
      "B\n"
     ]
    }
   ],
   "source": [
    "calificaciones = float(input('Introduce tu calificación'))\n",
    "\n",
    "if calificaciones >= 90:\n",
    "    print('A')\n",
    "elif calificaciones < 90 and calificaciones >= 80:\n",
    "    print('B')\n",
    "elif calificaciones < 80 and calificaciones >= 70:\n",
    "    print('C')\n",
    "elif calificaciones < 70 and calificaciones >= 60:\n",
    "    print('D')\n",
    "else:\n",
    "    print('F')"
   ]
  },
  {
   "cell_type": "markdown",
   "metadata": {},
   "source": [
    "11. Calcular el índice de masa corporal (IMC) y categorizarlo\n",
    "    - Descripción: Dados el peso (en kg) y la altura (en metros) de una persona, calcula su IMC y categorízalo según las siguientes condiciones: si el IMC es menor a 18.5, es \"Bajo peso\"; si está entre 18.5 y 24.9 (inclusive), es \"Peso normal\"; si está entre 25 y 29.9 (inclusive), es \"Sobrepeso\"; de lo contrario, es \"Obesidad\"."
   ]
  },
  {
   "cell_type": "code",
   "execution_count": 1,
   "metadata": {},
   "outputs": [
    {
     "name": "stdout",
     "output_type": "stream",
     "text": [
      "Bajo peso\n"
     ]
    }
   ],
   "source": [
    "peso = float(input('Introduce tu peso en kg'))\n",
    "altura = float(input('Introduce tu altura en cm'))\n",
    "\n",
    "imc = peso/altura**2\n",
    "\n",
    "if imc < 18.5:\n",
    "    print('Bajo peso')\n",
    "elif imc >= 18.5 and imc <= 24.9:\n",
    "    print('Peso normal')\n",
    "elif imc >= 25 and imc <= 29.9:\n",
    "    print('Sobrepeso')\n",
    "else:\n",
    "    print('Obesidad')"
   ]
  },
  {
   "cell_type": "markdown",
   "metadata": {},
   "source": [
    "12. Calcular el mayor de tres números\n",
    "    - Descripción: Dados tres números, encuentra el mayor entre ellos."
   ]
  },
  {
   "cell_type": "code",
   "execution_count": null,
   "metadata": {},
   "outputs": [],
   "source": [
    "num1 = float(input('Introduce un primer'))\n",
    "num2 = float(input('Introduce un segundo número'))\n",
    "num3 = float(input('Introduce un tercer número'))\n",
    "\n",
    "if num1 > num2 and num1 > num3:\n",
    "    print('El primer número es mayor')\n",
    "elif num2 > num1 and num2 > num3:\n",
    "    print('El segundo número es mayor')\n",
    "elif num3 > num1 and num3 > num2:\n",
    "    print('El tercer número es mayor')\n",
    "\n"
   ]
  },
  {
   "cell_type": "markdown",
   "metadata": {},
   "source": [
    "13. BONUS sentencias de control: Verificar la validez de una fecha\n",
    "    - Descripción: Dados el día, el mes y el año de una fecha, verifica si la fecha es válida."
   ]
  },
  {
   "cell_type": "code",
   "execution_count": null,
   "metadata": {},
   "outputs": [],
   "source": [
    "dia_1 = "
   ]
  },
  {
   "cell_type": "markdown",
   "metadata": {},
   "source": [
    "# Ejercicios while"
   ]
  },
  {
   "cell_type": "markdown",
   "metadata": {},
   "source": [
    "1. Calcular la suma de los primeros 10 números naturales utilizando un bucle while\n",
    "    - Descripción: Utiliza un bucle while para calcular la suma de los primeros 10 números naturales (1 + 2 + 3 + ... + 10)."
   ]
  },
  {
   "cell_type": "code",
   "execution_count": 3,
   "metadata": {},
   "outputs": [
    {
     "name": "stdout",
     "output_type": "stream",
     "text": [
      "0\n",
      "1\n",
      "3\n",
      "6\n",
      "10\n",
      "15\n",
      "21\n",
      "28\n",
      "36\n",
      "45\n",
      "55\n"
     ]
    }
   ],
   "source": [
    "numero5 = 0\n",
    "contador =0\n",
    "while numero5 >=0 and contador <=10:\n",
    "    numero5= numero5+contador\n",
    "    contador+=1\n",
    "    print(numero5)"
   ]
  },
  {
   "cell_type": "markdown",
   "metadata": {},
   "source": [
    "2. Juego de adivinanza utilizando un bucle while\n",
    "    - Descripción: Crea un juego de adivinanza en el que el jugador tiene que adivinar un número secreto (tendrá que ser entre el 0 y el 10). Utiliza un bucle while para permitir múltiples intentos hasta que el jugador adivine correctamente."
   ]
  },
  {
   "cell_type": "code",
   "execution_count": 1,
   "metadata": {},
   "outputs": [
    {
     "name": "stdout",
     "output_type": "stream",
     "text": [
      "El numero elegido era 9 HAS GANADO!!\n"
     ]
    }
   ],
   "source": [
    "set1={\"1\",\"2\",\"3\",\"4\",\"5\",\"6\",\"7\",\"8\",\"9\",\"10\"}\n",
    "elegido= set1.pop()\n",
    "jugador = input(\"¿Elige un numero del 1 al 10?\")\n",
    "while elegido != jugador:\n",
    "    jugador = input(\"¿Elige un numero del 1 al 10?\")\n",
    "else:\n",
    "    print(\"El numero elegido era\",elegido,\"HAS GANADO!!\")"
   ]
  }
 ],
 "metadata": {
  "kernelspec": {
   "display_name": "base",
   "language": "python",
   "name": "python3"
  },
  "language_info": {
   "codemirror_mode": {
    "name": "ipython",
    "version": 3
   },
   "file_extension": ".py",
   "mimetype": "text/x-python",
   "name": "python",
   "nbconvert_exporter": "python",
   "pygments_lexer": "ipython3",
   "version": "3.9.7"
  }
 },
 "nbformat": 4,
 "nbformat_minor": 2
}
