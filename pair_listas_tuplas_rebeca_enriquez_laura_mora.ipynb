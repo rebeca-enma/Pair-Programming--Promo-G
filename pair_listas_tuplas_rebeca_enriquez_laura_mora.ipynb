{
 "cells": [
  {
   "cell_type": "markdown",
   "metadata": {},
   "source": [
    "# EJERCICIOS PAIR"
   ]
  },
  {
   "cell_type": "markdown",
   "metadata": {},
   "source": [
    "#**LISTAS**#"
   ]
  },
  {
   "cell_type": "markdown",
   "metadata": {},
   "source": [
    "1. Duplicar elementos de una lista. Descripción: Dada una lista de números, duplica cada elemento en la lista."
   ]
  },
  {
   "cell_type": "code",
   "execution_count": 1,
   "metadata": {},
   "outputs": [
    {
     "data": {
      "text/plain": [
       "[2, 4, 6, 8, 2, 4, 6, 8]"
      ]
     },
     "execution_count": 1,
     "metadata": {},
     "output_type": "execute_result"
    }
   ],
   "source": [
    "# EJEMPLO: dada la siguiente lista el output esperado es:\n",
    "lista = [2, 4, 6, 8]\n",
    "\n",
    "[2, 4, 6, 8, 2, 4, 6, 8]"
   ]
  },
  {
   "cell_type": "code",
   "execution_count": 2,
   "metadata": {},
   "outputs": [
    {
     "name": "stdout",
     "output_type": "stream",
     "text": [
      "[2, 4, 6, 8, 2, 4, 6, 8]\n"
     ]
    }
   ],
   "source": [
    "nueva_lista = lista + lista\n",
    "print(nueva_lista)"
   ]
  },
  {
   "cell_type": "markdown",
   "metadata": {},
   "source": [
    "2. Combinar dos listas. Descripción: Dadas dos listas, crea una nueva lista que contenga todos los elementos de ambas listas."
   ]
  },
  {
   "cell_type": "code",
   "execution_count": 3,
   "metadata": {},
   "outputs": [
    {
     "data": {
      "text/plain": [
       "[1, 2, 3, 4, 5, 6]"
      ]
     },
     "execution_count": 3,
     "metadata": {},
     "output_type": "execute_result"
    }
   ],
   "source": [
    "# dadas las siguientes listas el output esperado es:\n",
    "lista1 = [1, 2, 3]\n",
    "lista2 = [4, 5, 6]\n",
    "\n",
    "[1, 2, 3, 4, 5, 6]"
   ]
  },
  {
   "cell_type": "code",
   "execution_count": 4,
   "metadata": {},
   "outputs": [
    {
     "name": "stdout",
     "output_type": "stream",
     "text": [
      "[1, 2, 3, 4, 5, 6]\n"
     ]
    }
   ],
   "source": [
    "lista1.extend(lista2)\n",
    "print(lista1)"
   ]
  },
  {
   "cell_type": "markdown",
   "metadata": {},
   "source": [
    "3. Calcular la suma de una lista de números"
   ]
  },
  {
   "cell_type": "code",
   "execution_count": 5,
   "metadata": {},
   "outputs": [
    {
     "name": "stdout",
     "output_type": "stream",
     "text": [
      "21\n"
     ]
    }
   ],
   "source": [
    "len(lista1)\n",
    "suma = lista1[0] + lista1[1] + lista1[2] + lista1[3] + lista1[4] + lista1[5]\n",
    "print(suma)\n"
   ]
  },
  {
   "cell_type": "markdown",
   "metadata": {},
   "source": [
    "4. Encontrar valor máximo en una lista"
   ]
  },
  {
   "cell_type": "code",
   "execution_count": 6,
   "metadata": {},
   "outputs": [
    {
     "name": "stdout",
     "output_type": "stream",
     "text": [
      "6\n"
     ]
    }
   ],
   "source": [
    "print(max(lista1))"
   ]
  },
  {
   "cell_type": "markdown",
   "metadata": {},
   "source": [
    "5. Calcular longitud de una lista"
   ]
  },
  {
   "cell_type": "code",
   "execution_count": 7,
   "metadata": {},
   "outputs": [
    {
     "name": "stdout",
     "output_type": "stream",
     "text": [
      "6\n"
     ]
    }
   ],
   "source": [
    "print(len(lista1))"
   ]
  },
  {
   "cell_type": "markdown",
   "metadata": {},
   "source": [
    "6. Encontrar el indice de un elemento en una lista"
   ]
  },
  {
   "cell_type": "code",
   "execution_count": 8,
   "metadata": {},
   "outputs": [
    {
     "name": "stdout",
     "output_type": "stream",
     "text": [
      "[1, 2, 3, 4, 5, 6]\n",
      "3\n"
     ]
    }
   ],
   "source": [
    "valor = 4\n",
    "print(lista1)\n",
    "print(lista1.index(4))"
   ]
  },
  {
   "cell_type": "markdown",
   "metadata": {},
   "source": [
    "7. Contar ocurrencias de un elemento"
   ]
  },
  {
   "cell_type": "code",
   "execution_count": 9,
   "metadata": {},
   "outputs": [
    {
     "name": "stdout",
     "output_type": "stream",
     "text": [
      "3\n"
     ]
    }
   ],
   "source": [
    "lista3 = [30, 27, 30, 50, 40, 45, 30]\n",
    "print(lista3.count(30))"
   ]
  },
  {
   "cell_type": "markdown",
   "metadata": {},
   "source": [
    "8. Obtener una sublista de una lista"
   ]
  },
  {
   "cell_type": "code",
   "execution_count": 10,
   "metadata": {},
   "outputs": [
    {
     "name": "stdout",
     "output_type": "stream",
     "text": [
      "['rojo', 'verde', 'blanco']\n"
     ]
    }
   ],
   "source": [
    "colores = ['naranja', 'amarillo', 'rojo', 'verde', 'blanco', 'azul', 'negro']\n",
    "colores2 = colores[2:5]\n",
    "\n",
    "print(colores2)"
   ]
  },
  {
   "cell_type": "markdown",
   "metadata": {},
   "source": [
    "9. Obtén el último elemento de una lista"
   ]
  },
  {
   "cell_type": "code",
   "execution_count": 11,
   "metadata": {},
   "outputs": [
    {
     "name": "stdout",
     "output_type": "stream",
     "text": [
      "negro\n"
     ]
    }
   ],
   "source": [
    "print(colores[-1])"
   ]
  },
  {
   "cell_type": "markdown",
   "metadata": {},
   "source": [
    "*Ejercicio 10 está repetido*"
   ]
  },
  {
   "cell_type": "markdown",
   "metadata": {},
   "source": [
    "11. Obtener una sublista de una lista"
   ]
  },
  {
   "cell_type": "code",
   "execution_count": 12,
   "metadata": {},
   "outputs": [
    {
     "name": "stdout",
     "output_type": "stream",
     "text": [
      "['amarillo', 'rojo']\n"
     ]
    }
   ],
   "source": [
    "colores3 = colores[1:3]\n",
    "print(colores3)"
   ]
  },
  {
   "cell_type": "markdown",
   "metadata": {},
   "source": [
    "12. Reemplazar un elemento de una lista"
   ]
  },
  {
   "cell_type": "code",
   "execution_count": 4,
   "metadata": {},
   "outputs": [
    {
     "name": "stdout",
     "output_type": "stream",
     "text": [
      "['naranja', 'amarillo', 'rojo', 'verde', 'blanco', 'azul', 'negro']\n",
      "2\n",
      "['naranja', 'amarillo', 'rosa', 'verde', 'blanco', 'azul', 'negro']\n"
     ]
    }
   ],
   "source": [
    "print(colores)\n",
    "print(colores.index('rojo'))\n",
    "colores.pop(2)\n",
    "colores.insert(2, 'rosa')\n",
    "print(colores)"
   ]
  },
  {
   "cell_type": "markdown",
   "metadata": {},
   "source": [
    "13. Obtener una lista inversa"
   ]
  },
  {
   "cell_type": "code",
   "execution_count": 16,
   "metadata": {},
   "outputs": [
    {
     "name": "stdout",
     "output_type": "stream",
     "text": [
      "['negro', 'azul', 'blanco', 'verde', 'rojo', 'amarillo', 'naranja']\n"
     ]
    }
   ],
   "source": [
    "colorescopia = colores.copy()\n",
    "colorescopia.reverse()\n",
    "print(colorescopia)\n"
   ]
  },
  {
   "cell_type": "markdown",
   "metadata": {},
   "source": [
    "14. Ordenar una lista en orden ascendente"
   ]
  },
  {
   "cell_type": "code",
   "execution_count": 19,
   "metadata": {},
   "outputs": [
    {
     "name": "stdout",
     "output_type": "stream",
     "text": [
      "[30, 27, 30, 50, 40, 45, 30]\n",
      "La lista ordenada es [27, 30, 30, 30, 40, 45, 50]\n"
     ]
    }
   ],
   "source": [
    "print(lista3)\n",
    "lista_ordenada = sorted(lista3)\n",
    "print('La lista ordenada es', lista_ordenada)\n"
   ]
  },
  {
   "cell_type": "markdown",
   "metadata": {},
   "source": [
    "#**TUPLAS**#"
   ]
  },
  {
   "cell_type": "markdown",
   "metadata": {},
   "source": [
    "1. Acceder al primer elemento de una tupla"
   ]
  },
  {
   "cell_type": "code",
   "execution_count": 1,
   "metadata": {},
   "outputs": [
    {
     "name": "stdout",
     "output_type": "stream",
     "text": [
      "('Laura', 'Rebeca', 'Cristina', 'Ana', 'Lorena', 'Sofía')\n",
      "Laura\n"
     ]
    }
   ],
   "source": [
    "nombres1 = ('Laura', 'Rebeca', 'Cristina', 'Ana', 'Lorena', 'Sofía')\n",
    "print(nombres1)\n",
    "print(nombres1[0])"
   ]
  },
  {
   "cell_type": "markdown",
   "metadata": {},
   "source": [
    "2. Acceder al último elemento de una tupla"
   ]
  },
  {
   "cell_type": "code",
   "execution_count": 2,
   "metadata": {},
   "outputs": [
    {
     "name": "stdout",
     "output_type": "stream",
     "text": [
      "Sofía\n"
     ]
    }
   ],
   "source": [
    "print(nombres1[-1])"
   ]
  },
  {
   "cell_type": "markdown",
   "metadata": {},
   "source": [
    "3. Obtener la longitud de una tupla"
   ]
  },
  {
   "cell_type": "code",
   "execution_count": 3,
   "metadata": {},
   "outputs": [
    {
     "name": "stdout",
     "output_type": "stream",
     "text": [
      "6\n"
     ]
    }
   ],
   "source": [
    "print(len(nombres1))"
   ]
  },
  {
   "cell_type": "markdown",
   "metadata": {},
   "source": [
    "4. Concatenar dos tuplas"
   ]
  },
  {
   "cell_type": "code",
   "execution_count": 4,
   "metadata": {},
   "outputs": [
    {
     "name": "stdout",
     "output_type": "stream",
     "text": [
      "('Laura', 'Rebeca', 'Cristina', 'Ana', 'Lorena', 'Sofía')\n",
      "('Carlos', 'Jorge', 'Pedro', 'Iván', 'Eustaquio')\n",
      "La nueva tupla es ('Laura', 'Rebeca', 'Cristina', 'Ana', 'Lorena', 'Sofía', 'Carlos', 'Jorge', 'Pedro', 'Iván', 'Eustaquio')\n"
     ]
    }
   ],
   "source": [
    "nombres2 = ('Carlos', 'Jorge', 'Pedro', 'Iván', 'Eustaquio')\n",
    "print(nombres1)\n",
    "print(nombres2)\n",
    "\n",
    "nuevatupla = nombres1 + nombres2\n",
    "print('La nueva tupla es', nuevatupla)"
   ]
  },
  {
   "cell_type": "markdown",
   "metadata": {},
   "source": [
    "5. Encontrar un índice en un elemento"
   ]
  },
  {
   "cell_type": "code",
   "execution_count": 5,
   "metadata": {},
   "outputs": [
    {
     "name": "stdout",
     "output_type": "stream",
     "text": [
      "('Laura', 'Rebeca', 'Cristina', 'Ana', 'Lorena', 'Sofía')\n",
      "Rebeca corresponde al índice 1\n"
     ]
    }
   ],
   "source": [
    "print(nombres1)\n",
    "valor2 = 'Rebeca'\n",
    "print(valor2, 'corresponde al índice', nombres1.index('Rebeca'))\n"
   ]
  },
  {
   "cell_type": "markdown",
   "metadata": {},
   "source": [
    "6. Contar ocurrencias de un elemento en una tupla"
   ]
  },
  {
   "cell_type": "code",
   "execution_count": 6,
   "metadata": {},
   "outputs": [
    {
     "name": "stdout",
     "output_type": "stream",
     "text": [
      "12 aparece 3 veces\n"
     ]
    }
   ],
   "source": [
    "tupla_num = (20, 40, 12, 60, 35, 35, 12, 12)\n",
    "valor3 = 12\n",
    "print(valor3, 'aparece', tupla_num.count(12), 'veces')"
   ]
  },
  {
   "cell_type": "markdown",
   "metadata": {},
   "source": [
    "7. Obtener una subtuple de una tupla"
   ]
  },
  {
   "cell_type": "code",
   "execution_count": 2,
   "metadata": {},
   "outputs": [
    {
     "name": "stdout",
     "output_type": "stream",
     "text": [
      "('a', 'b', 'c', ('e', 'f'), 'd')\n"
     ]
    }
   ],
   "source": [
    "lista_tupla_nueva1 = ['a', 'b', 'c', 'd']\n",
    "subtupla_nueva1 = ('e', 'f')\n",
    "lista_tupla_nueva1.insert(-1, subtupla_nueva1)\n",
    "tupla_nueva1 = tuple(lista_tupla_nueva1)\n",
    "print(tupla_nueva1)\n"
   ]
  },
  {
   "cell_type": "markdown",
   "metadata": {},
   "source": [
    "8. Invertir una tupla"
   ]
  },
  {
   "cell_type": "code",
   "execution_count": 8,
   "metadata": {},
   "outputs": [
    {
     "name": "stdout",
     "output_type": "stream",
     "text": [
      "[12, 12, 35, 35, 60, 12, 40, 20]\n"
     ]
    }
   ],
   "source": [
    "lista_tupla = list(tupla_num)\n",
    "lista_tupla.reverse()\n",
    "print(lista_tupla)"
   ]
  },
  {
   "cell_type": "code",
   "execution_count": 10,
   "metadata": {},
   "outputs": [
    {
     "name": "stdout",
     "output_type": "stream",
     "text": [
      "(12, 12, 35, 35, 60, 12, 40, 20)\n"
     ]
    }
   ],
   "source": [
    "tupla_num_nueva = tuple(lista_tupla)\n",
    "print(tupla_num_nueva)"
   ]
  }
 ],
 "metadata": {
  "kernelspec": {
   "display_name": "base",
   "language": "python",
   "name": "python3"
  },
  "language_info": {
   "codemirror_mode": {
    "name": "ipython",
    "version": 3
   },
   "file_extension": ".py",
   "mimetype": "text/x-python",
   "name": "python",
   "nbconvert_exporter": "python",
   "pygments_lexer": "ipython3",
   "version": "3.9.7"
  }
 },
 "nbformat": 4,
 "nbformat_minor": 2
}
