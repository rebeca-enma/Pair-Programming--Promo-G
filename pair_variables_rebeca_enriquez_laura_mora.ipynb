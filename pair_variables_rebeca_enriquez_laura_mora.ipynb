{
 "cells": [
  {
   "cell_type": "markdown",
   "metadata": {},
   "source": [
    "1.Cread tres variables numéricas de tipo integer (entero), llamadas de la siguiente forma:\n",
    "numero1\n",
    "numero2\n",
    "numero3\n",
    "\n",
    "Utilizando los operadores lógicos:\n",
    "En vuestro caso, es el numero1 mayor que el numero2\n",
    "Es el numero1 menor que el numero2 pero mayor que el numero3\n",
    "Es el numero3 igual que el numero2\n",
    "Es el numero2 distinto que el numero1"
   ]
  },
  {
   "cell_type": "code",
   "execution_count": 8,
   "metadata": {},
   "outputs": [
    {
     "name": "stdout",
     "output_type": "stream",
     "text": [
      "El numero uno es mayor que el numero 2 False\n",
      "Es el numero 1 menor que el numero 2 pero mayor que el numero 3, False\n",
      "Es el numero 3 igual al numero 2 False\n",
      "Es el numero 1 distinto que el numero 2 True\n"
     ]
    }
   ],
   "source": [
    "numero1 = 7\n",
    "numero2 = 80\n",
    "numero3 = 15\n",
    "\n",
    "print(\"El numero uno es mayor que el numero 2\", numero1 > numero2)\n",
    "\n",
    "print(\"Es el numero 1 menor que el numero 2 pero mayor que el numero 3,\", numero1 < numero2 and numero1 > numero3 )\n",
    "\n",
    "print(\"Es el numero 3 igual al numero 2\", numero3 == numero2)\n",
    "\n",
    "print(\"Es el numero 1 distinto que el numero 2\", numero1 != numero2)"
   ]
  },
  {
   "cell_type": "markdown",
   "metadata": {},
   "source": [
    "2.Cread dos variables numéricas de tipo float (decimal) con dos decimales, llamdas de la siguiente forma:\n",
    "altura1\n",
    "altura2\n",
    "\n",
    "Utilizando los operadores matemáticos aprendidos en la lección:\n",
    "Cuál es la suma de las dos alturas\n",
    "Cuál es la diferencia entre las alturas\n",
    "Cuál es el resto de la división de las dos alturas\n",
    "Cuál es resultado de la división de las dos alturas, redondead el resultado a un decimal."
   ]
  },
  {
   "cell_type": "code",
   "execution_count": 24,
   "metadata": {},
   "outputs": [
    {
     "name": "stdout",
     "output_type": "stream",
     "text": [
      "la suma es: 3.32\n",
      "la diferencia es: -0.26\n",
      "El resto de la division de ambas alturas es: 1.53\n",
      "El de la division de ambas alturas es: 0.9\n"
     ]
    }
   ],
   "source": [
    "altura1 = 1.53\n",
    "altura2 = 1.79\n",
    "\n",
    "suma = altura1 + altura2\n",
    "diferencia = altura1 - altura2\n",
    "resto = altura1 % altura2\n",
    "division = altura1 / altura2\n",
    "\n",
    "print(\"la suma es:\", round(suma,2))\n",
    "\n",
    "print(\"la diferencia es:\", round(diferencia,2))\n",
    "\n",
    "print(\"El resto de la division de ambas alturas es:\", resto)\n",
    "\n",
    "print(\"El de la division de ambas alturas es:\", round(division,1))"
   ]
  },
  {
   "cell_type": "markdown",
   "metadata": {},
   "source": [
    "3.Escribid un programa usando la función input() que le pregunte al usuario su nombre y apellidos. Una vez que tengamos el nombre del usuario:\n",
    "Printead su nombre y apellidos todo en mayúsculas\n",
    "Printead su nombre y apellidos todo en minúsculas\n",
    "Printead su nombre y apellidos con la primera letra del nombre y los apellidos en mayúscula y el resto en minúscula.\n",
    "Printeas solo la primera letra del nombre en mayúscula."
   ]
  },
  {
   "cell_type": "code",
   "execution_count": 26,
   "metadata": {},
   "outputs": [
    {
     "name": "stdout",
     "output_type": "stream",
     "text": [
      "REBECA ENRIQUEZ MARTIN\n",
      "rebeca enriquez martin\n",
      "Rebeca Enriquez Martin\n",
      "Rebeca enriquez martin\n"
     ]
    }
   ],
   "source": [
    "nombre = input(\"Introducce tu nombre y apellidos\")\n",
    "\n",
    "print(nombre.upper())\n",
    "print(nombre.lower())\n",
    "print(nombre.title())\n",
    "print(nombre.capitalize())"
   ]
  },
  {
   "cell_type": "markdown",
   "metadata": {},
   "source": [
    "4.Escribid un programa usando la función input() que:\n",
    "Le pregunte al usuario por una frase, almacenad este resultado en una variable.\n",
    "Le pregunte al usuario por una vocal, almacenad este resultado en una variable.\n",
    "Printead la misma frase pero con la vocal introducida en mayúsulas."
   ]
  },
  {
   "cell_type": "code",
   "execution_count": 27,
   "metadata": {},
   "outputs": [
    {
     "name": "stdout",
     "output_type": "stream",
     "text": [
      "holA compAñerA\n"
     ]
    }
   ],
   "source": [
    "frase = input(\"Introduce una frase\")\n",
    "vocal = input(\"Selecciona una vocal\")\n",
    "\n",
    "frase1 = frase.replace(vocal,vocal.upper())\n",
    "print(frase1)"
   ]
  },
  {
   "cell_type": "markdown",
   "metadata": {},
   "source": [
    "5.Escribid un programa usando la función input() que:\n",
    "Le pregunte al usuario por la lista de la compra, separando cada elemento por comas.\n",
    "Devolved la lista de compra donde veamos cada elemento en una línea.\n",
    "💡Pista\n",
    "Para indicar salto de línea usaremos \"\\n\".\n",
    "Deberéis usar el método join de los strings\n",
    "📌 Output deseado\n",
    "resultado_del_input = [\"peras\", \"manzanas\", \"naranjas\"]\n",
    "\n",
    "# output después del ejercicio\n",
    "\"peras\"\n",
    "\"manzanas\"\n",
    "\"naranjas\""
   ]
  },
  {
   "cell_type": "code",
   "execution_count": 41,
   "metadata": {},
   "outputs": [
    {
     "name": "stdout",
     "output_type": "stream",
     "text": [
      "la lista de la compra es: coliflor, manzanas, pescado\n",
      "_____________\n",
      "['coliflor,', 'manzanas,', 'pescado']\n",
      "______________\n",
      "coliflor,\n",
      "manzanas,\n",
      "pescado\n"
     ]
    }
   ],
   "source": [
    "compra = input(\"introduce la lista de la compra separada por comas\")\n",
    "compra1 = list(compra)\n",
    "\n",
    "#Devolvemos los varoles introduccidos por el usuario\n",
    "print(\"la lista de la compra es:\", compra)\n",
    "print(\"_____________\")\n",
    "\n",
    "#Dividimos el string introducido y lo convertimos en una lista\n",
    "compra2 = compra.split()\n",
    "print(compra2)\n",
    "\n",
    "print(\"______________\")\n",
    "\n",
    "#Ponemos en cada linea un producto\n",
    "salto= \"\\n\".join(compra2)\n",
    "print(salto)"
   ]
  }
 ],
 "metadata": {
  "kernelspec": {
   "display_name": "Python 3",
   "language": "python",
   "name": "python3"
  },
  "language_info": {
   "codemirror_mode": {
    "name": "ipython",
    "version": 3
   },
   "file_extension": ".py",
   "mimetype": "text/x-python",
   "name": "python",
   "nbconvert_exporter": "python",
   "pygments_lexer": "ipython3",
   "version": "3.12.1"
  }
 },
 "nbformat": 4,
 "nbformat_minor": 2
}
